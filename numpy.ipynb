{
  "nbformat": 4,
  "nbformat_minor": 0,
  "metadata": {
    "colab": {
      "provenance": [],
      "name": "numpy.ipynb",
      "authorship_tag": "ABX9TyOrNKrx89jZfWayDs8ZjNhO",
      "include_colab_link": true
    },
    "kernelspec": {
      "name": "python3",
      "display_name": "Python 3"
    },
    "language_info": {
      "name": "python"
    }
  },
  "cells": [
    {
      "cell_type": "markdown",
      "metadata": {
        "id": "view-in-github",
        "colab_type": "text"
      },
      "source": [
        "<a href=\"https://colab.research.google.com/github/shreyabhatt025/Python-Libraries-/blob/main/numpy.ipynb\" target=\"_parent\"><img src=\"https://colab.research.google.com/assets/colab-badge.svg\" alt=\"Open In Colab\"/></a>"
      ]
    },
    {
      "cell_type": "code",
      "execution_count": null,
      "metadata": {
        "colab": {
          "base_uri": "https://localhost:8080/"
        },
        "id": "3w4kliU0DZFX",
        "outputId": "80c504e4-a728-4e8e-f672-bee69618af98"
      },
      "outputs": [
        {
          "output_type": "stream",
          "name": "stdout",
          "text": [
            "[[1 2]\n",
            " [3 4]]\n"
          ]
        },
        {
          "output_type": "execute_result",
          "data": {
            "text/plain": [
              "array([[ 6,  8],\n",
              "       [10, 12]])"
            ]
          },
          "metadata": {},
          "execution_count": 4
        }
      ],
      "source": [
        "import numpy as np\n",
        "#creating array from python list\n",
        "a=np.array([[1,2],[3,4]])\n",
        "print(a)\n",
        "b=np.array([[5,6],[7,8]])\n",
        "a+b\n"
      ]
    },
    {
      "cell_type": "code",
      "source": [
        "filled_Array=np.full((2,2),7)\n",
        "print(filled_Array)"
      ],
      "metadata": {
        "colab": {
          "base_uri": "https://localhost:8080/"
        },
        "id": "W2ewK5YQGxxA",
        "outputId": "95d4f4b7-8a09-4bf2-dd50-43af66670e49"
      },
      "execution_count": null,
      "outputs": [
        {
          "output_type": "stream",
          "name": "stdout",
          "text": [
            "[[7 7]\n",
            " [7 7]]\n"
          ]
        }
      ]
    },
    {
      "cell_type": "code",
      "source": [
        "#identity matrix\n",
        "identity_matrix=np.eye(3)\n",
        "print(identity_matrix)"
      ],
      "metadata": {
        "colab": {
          "base_uri": "https://localhost:8080/"
        },
        "id": "dc-gFNBEJLlB",
        "outputId": "05890927-bb3f-4248-d36e-6862c9d437d0"
      },
      "execution_count": null,
      "outputs": [
        {
          "output_type": "stream",
          "name": "stdout",
          "text": [
            "[[1. 0. 0.]\n",
            " [0. 1. 0.]\n",
            " [0. 0. 1.]]\n"
          ]
        }
      ]
    },
    {
      "cell_type": "code",
      "source": [
        "#creating sequnces of number in numpy\n",
        "#arange function ( start,stop,step)\n",
        "arr=np.arange(1,10,2)\n",
        "print(arr) #it returns a numpy array\n"
      ],
      "metadata": {
        "colab": {
          "base_uri": "https://localhost:8080/"
        },
        "id": "4Qt3GqXaHFPz",
        "outputId": "99c74fcf-a44f-4e78-f075-f8821beb31c9"
      },
      "execution_count": null,
      "outputs": [
        {
          "output_type": "stream",
          "name": "stdout",
          "text": [
            "[1 3 5 7 9]\n"
          ]
        }
      ]
    },
    {
      "cell_type": "code",
      "source": [
        "#When workinh with multi dimension array\n",
        "#SHAPE - return array (row,column)\n",
        "import numpy as np\n",
        "arr_2d=np.array([[1,2,3],[4,5,6]])\n",
        "print(arr_2d.shape)\n",
        "\n",
        "#SIZE- total no of elements in array\n",
        "print(arr_2d.size)\n",
        "\n",
        "#ndim - use to check no of dimension , n stands for number , dim stands for dimension\n",
        "print(arr_2d.ndim)\n",
        "\n",
        "#d type - return data type of array\n",
        "print(arr_2d.dtype)\n",
        "\n"
      ],
      "metadata": {
        "id": "FQO94nAi2hDO",
        "outputId": "ec844ae6-eee2-4c49-d8c4-719eb8b473c6",
        "colab": {
          "base_uri": "https://localhost:8080/"
        }
      },
      "execution_count": null,
      "outputs": [
        {
          "output_type": "stream",
          "name": "stdout",
          "text": [
            "(2, 3)\n",
            "6\n",
            "2\n",
            "int64\n"
          ]
        }
      ]
    },
    {
      "cell_type": "markdown",
      "source": [],
      "metadata": {
        "id": "3AkT3Ysb5TCP"
      }
    },
    {
      "cell_type": "code",
      "source": [
        "#astype()- use to convert data type of array\n",
        "arr=np.array([1.2,3.4,5.6])\n",
        "print(arr.dtype)\n",
        "int_arr=arr.astype(int)\n",
        "print(int_arr)\n",
        "print(int_arr.dtype)\n"
      ],
      "metadata": {
        "id": "DM6MnTyD5Two",
        "outputId": "ccd4adfe-2884-4e63-afc9-59b369ad4ed4",
        "colab": {
          "base_uri": "https://localhost:8080/"
        }
      },
      "execution_count": null,
      "outputs": [
        {
          "output_type": "stream",
          "name": "stdout",
          "text": [
            "float64\n",
            "[1 3 5]\n",
            "int64\n"
          ]
        }
      ]
    },
    {
      "cell_type": "code",
      "source": [
        "#AGGREGATION FUNCTION\n",
        "a=np.array([[10,20,30,40,50]])\n",
        "print(np.sum(a))\n",
        "print(np.mean(a))\n",
        "print(np.min(a))\n",
        "print(np.max(a))\n",
        "print(np.std(a))\n",
        "print(np.var(a))\n",
        "\n"
      ],
      "metadata": {
        "id": "oSRKz_YK6Obv",
        "outputId": "df8edd2a-045d-49f3-c059-a471f57f739e",
        "colab": {
          "base_uri": "https://localhost:8080/"
        }
      },
      "execution_count": null,
      "outputs": [
        {
          "output_type": "stream",
          "name": "stdout",
          "text": [
            "150\n",
            "30.0\n",
            "10\n",
            "50\n",
            "14.142135623730951\n",
            "200.0\n"
          ]
        }
      ]
    },
    {
      "cell_type": "code",
      "source": [
        "## Numpy use 0 base indexing\n",
        "#INDEXING - Indexing a NumPy array means accessing the elements of the NumPy array at the given index.\n",
        "\n",
        "#There are two types of indexing in NumPy: basic indexing and advanced indexing.\n",
        "\n",
        "import numpy as np\n",
        "arr=np.array([10,20,30,40,50])\n",
        "print(arr[4])\n",
        "print(arr[-1])\n",
        "#sliicng\n",
        "print(arr[1:5])\n",
        "print(arr[:4])\n",
        "print(arr[::-1]) # reverse array without loop\n",
        "\n"
      ],
      "metadata": {
        "id": "I_Kp8oYW8U64",
        "outputId": "797ec093-9adf-4478-a623-024d158e0042",
        "colab": {
          "base_uri": "https://localhost:8080/"
        }
      },
      "execution_count": null,
      "outputs": [
        {
          "output_type": "stream",
          "name": "stdout",
          "text": [
            "50\n",
            "50\n",
            "[20 30 40 50]\n",
            "[10 20 30 40]\n",
            "[50 40 30 20 10]\n"
          ]
        }
      ]
    }
  ]
}